{
  "nbformat": 4,
  "nbformat_minor": 0,
  "metadata": {
    "colab": {
      "name": "imdbTEST1.ipynb",
      "provenance": [],
      "authorship_tag": "ABX9TyNGZ840+XrBASZWJgmPFOxJ",
      "include_colab_link": true
    },
    "kernelspec": {
      "name": "python3",
      "display_name": "Python 3"
    },
    "language_info": {
      "name": "python"
    }
  },
  "cells": [
    {
      "cell_type": "markdown",
      "metadata": {
        "id": "view-in-github",
        "colab_type": "text"
      },
      "source": [
        "<a href=\"https://colab.research.google.com/github/thisiskcn/Metrics/blob/master/imdbTEST1.ipynb\" target=\"_parent\"><img src=\"https://colab.research.google.com/assets/colab-badge.svg\" alt=\"Open In Colab\"/></a>"
      ]
    },
    {
      "cell_type": "code",
      "metadata": {
        "id": "nj4-g1pB_x5c"
      },
      "source": [
        "import urllib.request, urllib.parse, urllib.error\n",
        "import json"
      ],
      "execution_count": null,
      "outputs": []
    },
    {
      "cell_type": "code",
      "metadata": {
        "id": "r_NMnVWp_2Ex"
      },
      "source": [
        "with open('apikey.json') as f:\n",
        "    keys = json.load(f)\n",
        "    omdbapi = keys['OMDBapi']"
      ],
      "execution_count": null,
      "outputs": []
    },
    {
      "cell_type": "code",
      "metadata": {
        "id": "g8rHcyw1_54b"
      },
      "source": [
        "serviceurl = 'http://www.omdbapi.com/?'\n",
        "apikey = '&apikey='+omdbapi"
      ],
      "execution_count": null,
      "outputs": []
    },
    {
      "cell_type": "code",
      "metadata": {
        "id": "wQfzO3lrDQVF"
      },
      "source": [
        "def print_json(json_data):\n",
        "    list_keys=['Title', 'Year', 'Rated', 'Released', 'Runtime', 'Genre', 'Director', 'Writer', \n",
        "               'Actors', 'Plot', 'Language', 'Country', 'Awards', 'Ratings', \n",
        "               'Metascore', 'imdbRating', 'imdbVotes', 'imdbID']\n",
        "    print(\"-\"*50)\n",
        "    for k in list_keys:\n",
        "        if k in list(json_data.keys()):\n",
        "            print(f\"{k}: {json_data[k]}\")\n",
        "    print(\"-\"*50)"
      ],
      "execution_count": null,
      "outputs": []
    },
    {
      "cell_type": "code",
      "metadata": {
        "id": "vEZKYCF7DRnl"
      },
      "source": [
        "def save_poster(json_data):\n",
        "    import os\n",
        "    title = json_data['Title']\n",
        "    poster_url = json_data['Poster']\n",
        "    # Splits the poster url by '.' and picks up the last string as file extension\n",
        "    poster_file_extension=poster_url.split('.')[-1]\n",
        "    # Reads the image file from web\n",
        "    poster_data = urllib.request.urlopen(poster_url).read()\n",
        "        \n",
        "    savelocation=os.getcwd()+'\\\\'+'Posters'+'\\\\'\n",
        "    # Creates new directory if the directory does not exist. Otherwise, just use the existing path.\n",
        "    if not os.path.isdir(savelocation):\n",
        "        os.mkdir(savelocation)\n",
        "    \n",
        "    filename=savelocation+str(title)+'.'+poster_file_extension\n",
        "    f=open(filename,'wb')\n",
        "    f.write(poster_data)\n",
        "    f.close()"
      ],
      "execution_count": null,
      "outputs": []
    },
    {
      "cell_type": "code",
      "metadata": {
        "id": "fjqmyL1HDTmu"
      },
      "source": [
        "def save_in_database(json_data):\n",
        "    \n",
        "    filename = input(\"Please enter a name for the database (extension not needed, it will be added automatically): \")\n",
        "    filename = filename+'.sqlite'\n",
        "    \n",
        "    import sqlite3\n",
        "    conn = sqlite3.connect(str(filename))\n",
        "    cur=conn.cursor()\n",
        "    \n",
        "    title = json_data['Title']\n",
        "    # Goes through the json dataset and extracts information if it is available\n",
        "    if json_data['Year']!='N/A':\n",
        "        year = int(json_data['Year'])\n",
        "    if json_data['Runtime']!='N/A':\n",
        "        runtime = int(json_data['Runtime'].split()[0])\n",
        "    if json_data['Country']!='N/A':\n",
        "        country = json_data['Country']\n",
        "    if json_data['Metascore']!='N/A':\n",
        "        metascore = float(json_data['Metascore'])\n",
        "    else:\n",
        "        metascore=-1\n",
        "    if json_data['imdbRating']!='N/A':\n",
        "        imdb_rating = float(json_data['imdbRating'])\n",
        "    else:\n",
        "        imdb_rating=-1\n",
        "    \n",
        "    # SQL commands\n",
        "    cur.execute('''CREATE TABLE IF NOT EXISTS MovieInfo \n",
        "    (Title TEXT, Year INTEGER, Runtime INTEGER, Country TEXT, Metascore REAL, IMDBRating REAL)''')\n",
        "    \n",
        "    cur.execute('SELECT Title FROM MovieInfo WHERE Title = ? ', (title,))\n",
        "    row = cur.fetchone()\n",
        "    \n",
        "    if row is None:\n",
        "        cur.execute('''INSERT INTO MovieInfo (Title, Year, Runtime, Country, Metascore, IMDBRating)\n",
        "                VALUES (?,?,?,?,?,?)''', (title,year,runtime,country,metascore,imdb_rating))\n",
        "    else:\n",
        "        print(\"Record already found. No update made.\")\n",
        "    \n",
        "    # Commits the change and close the connection to the database\n",
        "    conn.commit()\n",
        "    conn.close()"
      ],
      "execution_count": null,
      "outputs": []
    },
    {
      "cell_type": "code",
      "metadata": {
        "id": "xc0edfPeDWB_"
      },
      "source": [
        "def print_database(database):\n",
        "    \n",
        "    import sqlite3\n",
        "    conn = sqlite3.connect(str(database))\n",
        "    cur=conn.cursor()\n",
        "    \n",
        "    for row in cur.execute('SELECT * FROM MovieInfo'):\n",
        "        print(row)\n",
        "    conn.close()"
      ],
      "execution_count": null,
      "outputs": []
    },
    {
      "cell_type": "code",
      "metadata": {
        "id": "wcB4kzCJDYuW"
      },
      "source": [
        "def save_in_excel(filename, database):\n",
        "    \n",
        "    if filename.split('.')[-1]!='xls' and filename.split('.')[-1]!='xlsx':\n",
        "        print (\"Filename does not have correct extension. Please try again\")\n",
        "        return None\n",
        "    \n",
        "    import pandas as pd\n",
        "    import sqlite3\n",
        "    \n",
        "    #df=pd.DataFrame(columns=['Title','Year', 'Runtime', 'Country', 'Metascore', 'IMDB_Rating'])\n",
        "    \n",
        "    conn = sqlite3.connect(str(database))\n",
        "    #cur=conn.cursor()\n",
        "    \n",
        "    df=pd.read_sql_query(\"SELECT * FROM MovieInfo\", conn)\n",
        "    conn.close()\n",
        "    \n",
        "    df.to_excel(filename,sheet_name='Movie Info')"
      ],
      "execution_count": null,
      "outputs": []
    },
    {
      "cell_type": "code",
      "metadata": {
        "id": "5vlCClejDa-4"
      },
      "source": [
        "def search_movie(title):\n",
        "    if len(title) < 1 or title=='quit': \n",
        "        print(\"Goodbye now...\")\n",
        "        return None\n",
        "\n",
        "    try:\n",
        "        url = serviceurl + urllib.parse.urlencode({'t': title})+apikey\n",
        "        print(f'Retrieving the data of \"{title}\" now... ')\n",
        "        uh = urllib.request.urlopen(url)\n",
        "        data = uh.read()\n",
        "        json_data=json.loads(data)\n",
        "        \n",
        "        if json_data['Response']=='True':\n",
        "            print_json(json_data)\n",
        "            \n",
        "            # Asks user whether to download the poster of the movie\n",
        "            if json_data['Poster']!='N/A':\n",
        "                poster_yes_no=input ('Poster of this movie can be downloaded. Enter \"yes\" or \"no\": ').lower()\n",
        "                if poster_yes_no=='yes':\n",
        "                    save_poster(json_data)\n",
        "            # Asks user whether to save the movie information in a local database\n",
        "            save_database_yes_no=input ('Save the movie info in a local database? Enter \"yes\" or \"no\": ').lower()\n",
        "            if save_database_yes_no=='yes':\n",
        "                save_in_database(json_data)\n",
        "        else:\n",
        "            print(\"Error encountered: \",json_data['Error'])\n",
        "    \n",
        "    except urllib.error.URLError as e:\n",
        "        print(f\"ERROR: {e.reason}\")"
      ],
      "execution_count": null,
      "outputs": []
    },
    {
      "cell_type": "code",
      "metadata": {
        "id": "P9CTEdqcDda_",
        "colab": {
          "base_uri": "https://localhost:8080/"
        },
        "outputId": "8a5f9db0-0094-41e8-c0ee-bde8d0dc0069"
      },
      "source": [
        "title = input('\\nEnter the name of a movie (enter \\'quit\\' or hit ENTER to quit): ')\n",
        "if len(title) < 1 or title=='quit': \n",
        "    print(\"Goodbye now...\")\n",
        "else:\n",
        "    search_movie(title)"
      ],
      "execution_count": null,
      "outputs": [
        {
          "output_type": "stream",
          "text": [
            "\n",
            "Enter the name of a movie (enter 'quit' or hit ENTER to quit): Jumanji\n",
            "Retrieving the data of \"Jumanji\" now... \n",
            "--------------------------------------------------\n",
            "Title: Jumanji\n",
            "Year: 1995\n",
            "Rated: PG\n",
            "Released: 15 Dec 1995\n",
            "Runtime: 104 min\n",
            "Genre: Adventure, Comedy, Family, Fantasy\n",
            "Director: Joe Johnston\n",
            "Writer: Jonathan Hensleigh (screenplay by), Greg Taylor (screenplay by), Jim Strain (screenplay by), Greg Taylor (screen story by), Jim Strain (screen story by), Chris Van Allsburg (screen story by), Chris Van Allsburg (based on the book by)\n",
            "Actors: Robin Williams, Jonathan Hyde, Kirsten Dunst, Bradley Pierce\n",
            "Plot: When two kids find and play a magical board game, they release a man trapped in it for decades - and a host of dangers that can only be stopped by finishing the game.\n",
            "Language: English, French\n",
            "Country: USA\n",
            "Awards: 4 wins & 11 nominations.\n",
            "Ratings: [{'Source': 'Internet Movie Database', 'Value': '7.0/10'}, {'Source': 'Rotten Tomatoes', 'Value': '55%'}, {'Source': 'Metacritic', 'Value': '39/100'}]\n",
            "Metascore: 39\n",
            "imdbRating: 7.0\n",
            "imdbVotes: 311,486\n",
            "imdbID: tt0113497\n",
            "--------------------------------------------------\n",
            "Poster of this movie can be downloaded. Enter \"yes\" or \"no\": yes\n",
            "Save the movie info in a local database? Enter \"yes\" or \"no\": yes\n",
            "Please enter a name for the database (extension not needed, it will be added automatically): movtest\n"
          ],
          "name": "stdout"
        }
      ]
    },
    {
      "cell_type": "code",
      "metadata": {
        "colab": {
          "base_uri": "https://localhost:8080/",
          "height": 34
        },
        "id": "sEyWNYlrG9hN",
        "outputId": "1b349f69-0715-481b-99da-58ff7c4ba767"
      },
      "source": [
        "from IPython.display import Image\n",
        "Image(\"Posters/Titanic.jpg\")"
      ],
      "execution_count": null,
      "outputs": [
        {
          "output_type": "execute_result",
          "data": {
            "image/png": "Posters/Titanic.jpg",
            "text/plain": [
              "<IPython.core.display.Image object>"
            ]
          },
          "metadata": {
            "tags": []
          },
          "execution_count": 22
        }
      ]
    },
    {
      "cell_type": "code",
      "metadata": {
        "colab": {
          "base_uri": "https://localhost:8080/"
        },
        "id": "0h0QjzAsHAn4",
        "outputId": "063ea5bc-444a-42bd-88fb-512e98a2908e"
      },
      "source": [
        "print_database('movtest.sqlite')"
      ],
      "execution_count": null,
      "outputs": [
        {
          "output_type": "stream",
          "text": [
            "('Titanic', 1997, 194, 'USA, Mexico, Australia, Canada', 75.0, 7.8)\n",
            "('Jumanji', 1995, 104, 'USA', 39.0, 7.0)\n"
          ],
          "name": "stdout"
        }
      ]
    },
    {
      "cell_type": "code",
      "metadata": {
        "id": "caVoHkeZHERw"
      },
      "source": [
        "save_in_excel('test.xlsx','movtest.sqlite')"
      ],
      "execution_count": null,
      "outputs": []
    },
    {
      "cell_type": "code",
      "metadata": {
        "colab": {
          "base_uri": "https://localhost:8080/",
          "height": 106
        },
        "id": "MQIWgUrwHW4A",
        "outputId": "0892568e-4b71-4801-a563-e20456be8cde"
      },
      "source": [
        "import pandas as pd\n",
        "df=pd.read_excel('test.xlsx')\n",
        "df"
      ],
      "execution_count": null,
      "outputs": [
        {
          "output_type": "execute_result",
          "data": {
            "text/html": [
              "<div>\n",
              "<style scoped>\n",
              "    .dataframe tbody tr th:only-of-type {\n",
              "        vertical-align: middle;\n",
              "    }\n",
              "\n",
              "    .dataframe tbody tr th {\n",
              "        vertical-align: top;\n",
              "    }\n",
              "\n",
              "    .dataframe thead th {\n",
              "        text-align: right;\n",
              "    }\n",
              "</style>\n",
              "<table border=\"1\" class=\"dataframe\">\n",
              "  <thead>\n",
              "    <tr style=\"text-align: right;\">\n",
              "      <th></th>\n",
              "      <th>Unnamed: 0</th>\n",
              "      <th>Title</th>\n",
              "      <th>Year</th>\n",
              "      <th>Runtime</th>\n",
              "      <th>Country</th>\n",
              "      <th>Metascore</th>\n",
              "      <th>IMDBRating</th>\n",
              "    </tr>\n",
              "  </thead>\n",
              "  <tbody>\n",
              "    <tr>\n",
              "      <th>0</th>\n",
              "      <td>0</td>\n",
              "      <td>Titanic</td>\n",
              "      <td>1997</td>\n",
              "      <td>194</td>\n",
              "      <td>USA, Mexico, Australia, Canada</td>\n",
              "      <td>75</td>\n",
              "      <td>7.8</td>\n",
              "    </tr>\n",
              "    <tr>\n",
              "      <th>1</th>\n",
              "      <td>1</td>\n",
              "      <td>Jumanji</td>\n",
              "      <td>1995</td>\n",
              "      <td>104</td>\n",
              "      <td>USA</td>\n",
              "      <td>39</td>\n",
              "      <td>7.0</td>\n",
              "    </tr>\n",
              "  </tbody>\n",
              "</table>\n",
              "</div>"
            ],
            "text/plain": [
              "   Unnamed: 0    Title  ...  Metascore  IMDBRating\n",
              "0           0  Titanic  ...         75         7.8\n",
              "1           1  Jumanji  ...         39         7.0\n",
              "\n",
              "[2 rows x 7 columns]"
            ]
          },
          "metadata": {
            "tags": []
          },
          "execution_count": 26
        }
      ]
    }
  ]
}